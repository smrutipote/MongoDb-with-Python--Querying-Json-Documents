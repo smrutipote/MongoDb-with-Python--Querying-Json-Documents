{
 "cells": [
  {
   "cell_type": "code",
   "execution_count": 61,
   "id": "4c68b418",
   "metadata": {},
   "outputs": [],
   "source": [
    "import pymongo"
   ]
  },
  {
   "cell_type": "code",
   "execution_count": 62,
   "id": "5d6ab467",
   "metadata": {},
   "outputs": [],
   "source": [
    "client= pymongo.MongoClient('mongodb://127.0.0.1:27017/')"
   ]
  },
  {
   "cell_type": "code",
   "execution_count": 63,
   "id": "f5792658",
   "metadata": {},
   "outputs": [],
   "source": [
    "mydb=client['Employee']\n",
    "empinfo=mydb.employeeinformation"
   ]
  },
  {
   "cell_type": "raw",
   "id": "07e49586",
   "metadata": {},
   "source": [
    "Documents insertion in  Mongodb as Json"
   ]
  },
  {
   "cell_type": "code",
   "execution_count": 33,
   "id": "1e4f8ab2",
   "metadata": {},
   "outputs": [
    {
     "data": {
      "text/plain": [
       "InsertOneResult(ObjectId('65a8dcb52512889903be352f'), acknowledged=True)"
      ]
     },
     "execution_count": 33,
     "metadata": {},
     "output_type": "execute_result"
    }
   ],
   "source": [
    "record={'firstname':'Pranita','lastname':'Bhagwat','Age':31}\n",
    "empinfo.insert_one(record)"
   ]
  },
  {
   "cell_type": "code",
   "execution_count": 31,
   "id": "2429e6b5",
   "metadata": {},
   "outputs": [
    {
     "data": {
      "text/plain": [
       "InsertManyResult([ObjectId('65a8dca62512889903be352d'), ObjectId('65a8dca62512889903be352e')], acknowledged=True)"
      ]
     },
     "execution_count": 31,
     "metadata": {},
     "output_type": "execute_result"
    }
   ],
   "source": [
    "record=[\n",
    "    {'firstname':'Smruti','lastname':'Pote','Age':30},\n",
    "    {'firstname': 'Akshay',\"lastname\":'Dhudas','Age':30}\n",
    "       ]\n",
    "empinfo.insert_many(record)"
   ]
  },
  {
   "cell_type": "code",
   "execution_count": 30,
   "id": "cfb16398",
   "metadata": {},
   "outputs": [
    {
     "data": {
      "text/plain": [
       "InsertManyResult([ObjectId('65a8dca32512889903be352a'), ObjectId('65a8dca32512889903be352b'), ObjectId('65a8dca32512889903be352c')], acknowledged=True)"
      ]
     },
     "execution_count": 30,
     "metadata": {},
     "output_type": "execute_result"
    }
   ],
   "source": [
    "record=[\n",
    "    {'firstname':'Manara','lastname':'Chopra','Age':32,'qualification':'graduate'},\n",
    "    {'firstname': 'Munawar',\"lastname\":'Farooqui','Age':33,'qualification':'HSC'},\n",
    "    {'firstname': 'Vikky',\"lastname\":'Jain','Age':40,'qualification':'MBA'}\n",
    "       ]\n",
    "empinfo.insert_many(record)"
   ]
  },
  {
   "cell_type": "code",
   "execution_count": null,
   "id": "7ed85436",
   "metadata": {},
   "outputs": [],
   "source": []
  },
  {
   "cell_type": "code",
   "execution_count": null,
   "id": "13ba7aba",
   "metadata": {},
   "outputs": [],
   "source": [
    "## simple way of querying"
   ]
  },
  {
   "cell_type": "code",
   "execution_count": 13,
   "id": "dbd7b1e0",
   "metadata": {},
   "outputs": [
    {
     "data": {
      "text/plain": [
       "{'_id': ObjectId('65a8ceb02512889903be3522'),\n",
       " 'firstname': 'Akshay',\n",
       " 'lastname': 'Dhudas',\n",
       " 'Age': 30}"
      ]
     },
     "execution_count": 13,
     "metadata": {},
     "output_type": "execute_result"
    }
   ],
   "source": [
    "empinfo.find_one() # find_one gives the first record of the document"
   ]
  },
  {
   "cell_type": "code",
   "execution_count": 34,
   "id": "a61b41ae",
   "metadata": {},
   "outputs": [
    {
     "data": {
      "text/plain": [
       "<pymongo.cursor.Cursor at 0x15c2a425550>"
      ]
     },
     "execution_count": 34,
     "metadata": {},
     "output_type": "execute_result"
    }
   ],
   "source": [
    "empinfo.find() # this shows cursor at all the records in empinfo"
   ]
  },
  {
   "cell_type": "code",
   "execution_count": 35,
   "id": "365fede6",
   "metadata": {},
   "outputs": [
    {
     "name": "stdout",
     "output_type": "stream",
     "text": [
      "{'_id': ObjectId('65a8ceb02512889903be3522'), 'firstname': 'Akshay', 'lastname': 'Dhudas', 'Age': 30}\n",
      "{'_id': ObjectId('65a8cf3f2512889903be3523'), 'firstname': 'Pranita', 'lastname': 'Bhagwat', 'Age': 31}\n",
      "{'_id': ObjectId('65a8d00c2512889903be3524'), 'firstname': 'Smruti', 'lastname': 'Pote', 'Age': 30}\n",
      "{'_id': ObjectId('65a8dae02512889903be3526'), 'firstname': 'Manara', 'lastname': 'Chopra', 'Age': 32, 'qualification': 'graduate'}\n",
      "{'_id': ObjectId('65a8dae02512889903be3527'), 'firstname': 'Munawar', 'lastname': 'Farooqui', 'Age': 33, 'qualification': 'HSC'}\n",
      "{'_id': ObjectId('65a8dae02512889903be3528'), 'firstname': 'Vikky', 'lastname': 'Jain', 'Age': 40, 'qualification': 'MBA'}\n",
      "{'_id': ObjectId('65a8dca32512889903be352a'), 'firstname': 'Manara', 'lastname': 'Chopra', 'Age': 32, 'qualification': 'graduate'}\n",
      "{'_id': ObjectId('65a8dca32512889903be352b'), 'firstname': 'Munawar', 'lastname': 'Farooqui', 'Age': 33, 'qualification': 'HSC'}\n",
      "{'_id': ObjectId('65a8dca32512889903be352c'), 'firstname': 'Vikky', 'lastname': 'Jain', 'Age': 40, 'qualification': 'MBA'}\n",
      "{'_id': ObjectId('65a8dca62512889903be352d'), 'firstname': 'Smruti', 'lastname': 'Pote', 'Age': 30}\n",
      "{'_id': ObjectId('65a8dca62512889903be352e'), 'firstname': 'Akshay', 'lastname': 'Dhudas', 'Age': 30}\n",
      "{'_id': ObjectId('65a8dcb52512889903be352f'), 'firstname': 'Pranita', 'lastname': 'Bhagwat', 'Age': 31}\n"
     ]
    }
   ],
   "source": [
    "for record in empinfo.find({}):\n",
    "    print(record)                        #gives all records in empinfo"
   ]
  },
  {
   "cell_type": "raw",
   "id": "d6e9fadf",
   "metadata": {},
   "source": [
    "Query to get employee information where first name is Akshay"
   ]
  },
  {
   "cell_type": "code",
   "execution_count": 36,
   "id": "be1ec2a3",
   "metadata": {},
   "outputs": [
    {
     "name": "stdout",
     "output_type": "stream",
     "text": [
      "{'_id': ObjectId('65a8ceb02512889903be3522'), 'firstname': 'Akshay', 'lastname': 'Dhudas', 'Age': 30}\n",
      "{'_id': ObjectId('65a8dca62512889903be352e'), 'firstname': 'Akshay', 'lastname': 'Dhudas', 'Age': 30}\n"
     ]
    }
   ],
   "source": [
    "for record in empinfo.find({'firstname':'Akshay'}):\n",
    "    print(record)"
   ]
  },
  {
   "cell_type": "raw",
   "id": "878f1861",
   "metadata": {},
   "source": [
    "## Query documents using query operators($in,$lt,$gt) ; $lt=less than, $gt= greater than"
   ]
  },
  {
   "cell_type": "code",
   "execution_count": 37,
   "id": "64bae99b",
   "metadata": {},
   "outputs": [
    {
     "name": "stdout",
     "output_type": "stream",
     "text": [
      "{'_id': ObjectId('65a8dae02512889903be3526'), 'firstname': 'Manara', 'lastname': 'Chopra', 'Age': 32, 'qualification': 'graduate'}\n",
      "{'_id': ObjectId('65a8dae02512889903be3528'), 'firstname': 'Vikky', 'lastname': 'Jain', 'Age': 40, 'qualification': 'MBA'}\n",
      "{'_id': ObjectId('65a8dca32512889903be352a'), 'firstname': 'Manara', 'lastname': 'Chopra', 'Age': 32, 'qualification': 'graduate'}\n",
      "{'_id': ObjectId('65a8dca32512889903be352c'), 'firstname': 'Vikky', 'lastname': 'Jain', 'Age': 40, 'qualification': 'MBA'}\n"
     ]
    }
   ],
   "source": [
    "for record in empinfo.find({'qualification':{'$in':['graduate','MBA']}}):\n",
    "    print(record)"
   ]
  },
  {
   "cell_type": "code",
   "execution_count": null,
   "id": "08eba228",
   "metadata": {},
   "outputs": [],
   "source": [
    "## and query operators"
   ]
  },
  {
   "cell_type": "code",
   "execution_count": 45,
   "id": "de566e7d",
   "metadata": {},
   "outputs": [],
   "source": [
    "for record in empinfo.find({'qualifcation':'graduate','Age':{'$lt':35}}):\n",
    "    print(record)"
   ]
  },
  {
   "cell_type": "code",
   "execution_count": null,
   "id": "0e6a9586",
   "metadata": {},
   "outputs": [],
   "source": [
    "## OR operators"
   ]
  },
  {
   "cell_type": "code",
   "execution_count": 46,
   "id": "68e8fb71",
   "metadata": {},
   "outputs": [
    {
     "name": "stdout",
     "output_type": "stream",
     "text": [
      "{'_id': ObjectId('65a8ceb02512889903be3522'), 'firstname': 'Akshay', 'lastname': 'Dhudas', 'Age': 30}\n",
      "{'_id': ObjectId('65a8d00c2512889903be3524'), 'firstname': 'Smruti', 'lastname': 'Pote', 'Age': 30}\n",
      "{'_id': ObjectId('65a8dca62512889903be352d'), 'firstname': 'Smruti', 'lastname': 'Pote', 'Age': 30}\n",
      "{'_id': ObjectId('65a8dca62512889903be352e'), 'firstname': 'Akshay', 'lastname': 'Dhudas', 'Age': 30}\n"
     ]
    }
   ],
   "source": [
    "for record in empinfo.find({'$or':[{'firstname':'Smruti'},{'Age':30}]}):\n",
    "    print(record)"
   ]
  },
  {
   "cell_type": "code",
   "execution_count": 47,
   "id": "2ad50513",
   "metadata": {},
   "outputs": [
    {
     "name": "stdout",
     "output_type": "stream",
     "text": [
      "{'_id': ObjectId('65a8d00c2512889903be3524'), 'firstname': 'Smruti', 'lastname': 'Pote', 'Age': 30}\n",
      "{'_id': ObjectId('65a8dca62512889903be352d'), 'firstname': 'Smruti', 'lastname': 'Pote', 'Age': 30}\n"
     ]
    }
   ],
   "source": [
    "for record in empinfo.find({'$and':[{'firstname':'Smruti'},{'Age':30}]}):\n",
    "    print(record)"
   ]
  },
  {
   "cell_type": "code",
   "execution_count": 64,
   "id": "9bca5fcd",
   "metadata": {},
   "outputs": [],
   "source": [
    "inventory=mydb.inventory"
   ]
  },
  {
   "cell_type": "code",
   "execution_count": 50,
   "id": "21282a46",
   "metadata": {},
   "outputs": [],
   "source": [
    "inventory.insert_many([\n",
    "    {'item':'journal','qty':25,'size':{'h':14,'w':21,'uom':'cm'},'state':'solid'},\n",
    "    {'item':'book','qty':30,'size':{'h':20,'w':16,'uom':'cm'},'state':'new'},\n",
    "    {'item':'diary','qty':10,'size':{'h':17,'w':28,'uom':'cm'},'state':'old'}\n",
    "]);"
   ]
  },
  {
   "cell_type": "code",
   "execution_count": 51,
   "id": "0df694dc",
   "metadata": {},
   "outputs": [
    {
     "name": "stdout",
     "output_type": "stream",
     "text": [
      "{'_id': ObjectId('65a8e0682512889903be3530'), 'item': 'journal', 'qty': 25, 'size': {'h': 14, 'w': 21, 'uom': 'cm'}, 'state': 'solid'}\n"
     ]
    }
   ],
   "source": [
    "for records in inventory.find({'size':{'h':14,'w':21,'uom':'cm'}}):\n",
    "    print(records)"
   ]
  },
  {
   "cell_type": "code",
   "execution_count": 52,
   "id": "483ef7df",
   "metadata": {},
   "outputs": [
    {
     "name": "stdout",
     "output_type": "stream",
     "text": [
      "{'_id': ObjectId('65a8e0682512889903be3531'), 'item': 'book', 'qty': 30, 'size': {'h': 20, 'w': 16, 'uom': 'cm'}, 'state': 'new'}\n"
     ]
    }
   ],
   "source": [
    "for record in inventory.find({'state':'new'}):\n",
    "    print(record)"
   ]
  },
  {
   "cell_type": "code",
   "execution_count": 53,
   "id": "3b6c30b7",
   "metadata": {},
   "outputs": [
    {
     "name": "stdout",
     "output_type": "stream",
     "text": [
      "{'_id': ObjectId('65a8e0682512889903be3532'), 'item': 'diary', 'qty': 10, 'size': {'h': 17, 'w': 28, 'uom': 'cm'}, 'state': 'old'}\n"
     ]
    }
   ],
   "source": [
    "for record in inventory.find({'qty':10}):\n",
    "    print(record)"
   ]
  },
  {
   "cell_type": "code",
   "execution_count": 56,
   "id": "230bfe37",
   "metadata": {},
   "outputs": [
    {
     "name": "stdout",
     "output_type": "stream",
     "text": [
      "{'_id': ObjectId('65a8e0682512889903be3531'), 'item': 'book', 'qty': 30, 'size': {'h': 20, 'w': 16, 'uom': 'cm'}, 'state': 'new'}\n",
      "{'_id': ObjectId('65a8e0682512889903be3532'), 'item': 'diary', 'qty': 10, 'size': {'h': 17, 'w': 28, 'uom': 'cm'}, 'state': 'old'}\n"
     ]
    }
   ],
   "source": [
    "for record in inventory.find({'$or':[{'item':'diary'},{'qty':30}]}):\n",
    "    print(record)"
   ]
  },
  {
   "cell_type": "code",
   "execution_count": 57,
   "id": "cce60e35",
   "metadata": {},
   "outputs": [
    {
     "name": "stdout",
     "output_type": "stream",
     "text": [
      "{'_id': ObjectId('65a8e0682512889903be3530'), 'item': 'journal', 'qty': 25, 'size': {'h': 14, 'w': 21, 'uom': 'cm'}, 'state': 'solid'}\n",
      "{'_id': ObjectId('65a8e0682512889903be3531'), 'item': 'book', 'qty': 30, 'size': {'h': 20, 'w': 16, 'uom': 'cm'}, 'state': 'new'}\n"
     ]
    }
   ],
   "source": [
    "for record in inventory.find({'qty':{'$gt':10}}):\n",
    "    print(record)"
   ]
  },
  {
   "cell_type": "code",
   "execution_count": 58,
   "id": "bd6e069b",
   "metadata": {},
   "outputs": [],
   "source": [
    "customer=mydb.customer"
   ]
  },
  {
   "cell_type": "code",
   "execution_count": 59,
   "id": "748b1d63",
   "metadata": {},
   "outputs": [
    {
     "data": {
      "text/plain": [
       "InsertManyResult([ObjectId('65a8e52e2512889903be3533'), ObjectId('65a8e52e2512889903be3534'), ObjectId('65a8e52e2512889903be3535')], acknowledged=True)"
      ]
     },
     "execution_count": 59,
     "metadata": {},
     "output_type": "execute_result"
    }
   ],
   "source": [
    "customer.insert_many([\n",
    "    {'id':1,'purchase':3},\n",
    "    {'id':2,'purchase':9},\n",
    "    {'id':3,'purchase':2}\n",
    "    \n",
    "])"
   ]
  },
  {
   "cell_type": "code",
   "execution_count": 60,
   "id": "db166f57",
   "metadata": {},
   "outputs": [
    {
     "name": "stdout",
     "output_type": "stream",
     "text": [
      "{'_id': ObjectId('65a8e52e2512889903be3533'), 'id': 1, 'purchase': 3}\n"
     ]
    }
   ],
   "source": [
    "for record in customer.find({'id':1}):\n",
    "    print(record)"
   ]
  },
  {
   "cell_type": "code",
   "execution_count": 65,
   "id": "6faa717f",
   "metadata": {},
   "outputs": [],
   "source": [
    "inventory=mydb.inventory"
   ]
  },
  {
   "cell_type": "code",
   "execution_count": 66,
   "id": "46371b54",
   "metadata": {},
   "outputs": [
    {
     "data": {
      "text/plain": [
       "InsertManyResult([ObjectId('65a8f1a82512889903be3537'), ObjectId('65a8f1a82512889903be3538'), ObjectId('65a8f1a82512889903be3539'), ObjectId('65a8f1a82512889903be353a'), ObjectId('65a8f1a82512889903be353b'), ObjectId('65a8f1a82512889903be353c'), ObjectId('65a8f1a82512889903be353d'), ObjectId('65a8f1a82512889903be353e'), ObjectId('65a8f1a82512889903be353f'), ObjectId('65a8f1a82512889903be3540')], acknowledged=True)"
      ]
     },
     "execution_count": 66,
     "metadata": {},
     "output_type": "execute_result"
    }
   ],
   "source": [
    "inventory.insert_many([\n",
    "    {\"item\": \"canvas\",\n",
    "     \"qty\": 100,\n",
    "     \"size\": {\"h\": 28, \"w\": 35.5, \"uom\": \"cm\"},\n",
    "     \"status\": \"A\"},\n",
    "    {\"item\": \"journal\",\n",
    "     \"qty\": 25,\n",
    "     \"size\": {\"h\": 14, \"w\": 21, \"uom\": \"cm\"},\n",
    "     \"status\": \"A\"},\n",
    "    {\"item\": \"mat\",\n",
    "     \"qty\": 85,\n",
    "     \"size\": {\"h\": 27.9, \"w\": 35.5, \"uom\": \"cm\"},\n",
    "     \"status\": \"A\"},\n",
    "    {\"item\": \"mousepad\",\n",
    "     \"qty\": 25,\n",
    "     \"size\": {\"h\": 19, \"w\": 22.85, \"uom\": \"cm\"},\n",
    "     \"status\": \"P\"},\n",
    "    {\"item\": \"notebook\",\n",
    "     \"qty\": 50,\n",
    "     \"size\": {\"h\": 8.5, \"w\": 11, \"uom\": \"in\"},\n",
    "     \"status\": \"P\"},\n",
    "    {\"item\": \"paper\",\n",
    "     \"qty\": 100,\n",
    "     \"size\": {\"h\": 8.5, \"w\": 11, \"uom\": \"in\"},\n",
    "     \"status\": \"D\"},\n",
    "    {\"item\": \"planner\",\n",
    "     \"qty\": 75,\n",
    "     \"size\": {\"h\": 22.85, \"w\": 30, \"uom\": \"cm\"},\n",
    "     \"status\": \"D\"},\n",
    "    {\"item\": \"postcard\",\n",
    "     \"qty\": 45,\n",
    "     \"size\": {\"h\": 10, \"w\": 15.25, \"uom\": \"cm\"},\n",
    "     \"status\": \"A\"},\n",
    "    {\"item\": \"sketchbook\",\n",
    "     \"qty\": 80,\n",
    "     \"size\": {\"h\": 14, \"w\": 21, \"uom\": \"cm\"},\n",
    "     \"status\": \"A\"},\n",
    "    {\"item\": \"sketch pad\",\n",
    "     \"qty\": 95,\n",
    "     \"size\": {\"h\": 22.85, \"w\": 30.5, \"uom\": \"cm\"},\n",
    "     \"status\": \"A\"}\n",
    "])"
   ]
  },
  {
   "cell_type": "markdown",
   "id": "7584c7de",
   "metadata": {},
   "source": [
    "Updating collection\n",
    "update_one \n",
    "update_many \n",
    "replace_one"
   ]
  },
  {
   "cell_type": "code",
   "execution_count": 69,
   "id": "81f9f34b",
   "metadata": {},
   "outputs": [
    {
     "data": {
      "text/plain": [
       "UpdateResult({'n': 1, 'nModified': 1, 'ok': 1.0, 'updatedExisting': True}, acknowledged=True)"
      ]
     },
     "execution_count": 69,
     "metadata": {},
     "output_type": "execute_result"
    }
   ],
   "source": [
    "inventory.update_one({'item':'sketch pad'},\n",
    "                     {'$set':{'size.uom':'m','status':'P'},\n",
    "                      '$currentDate':{'lastModified':True}}  \n",
    "                     )                                                #use $set when to update and replace collection documents"
   ]
  },
  {
   "cell_type": "code",
   "execution_count": 70,
   "id": "df16dcb3",
   "metadata": {},
   "outputs": [
    {
     "data": {
      "text/plain": [
       "UpdateResult({'n': 6, 'nModified': 6, 'ok': 1.0, 'updatedExisting': True}, acknowledged=True)"
      ]
     },
     "execution_count": 70,
     "metadata": {},
     "output_type": "execute_result"
    }
   ],
   "source": [
    "inventory.update_many(\n",
    "    {'qty':{'$lt':50}},\n",
    "    {'$set':{'size.uom':'in','status':'P'},\n",
    "    '$currentDate':{'lastModified':True}}\n",
    ")"
   ]
  },
  {
   "cell_type": "code",
   "execution_count": 72,
   "id": "0f1a67d3",
   "metadata": {},
   "outputs": [
    {
     "data": {
      "text/plain": [
       "UpdateResult({'n': 1, 'nModified': 1, 'ok': 1.0, 'updatedExisting': True}, acknowledged=True)"
      ]
     },
     "execution_count": 72,
     "metadata": {},
     "output_type": "execute_result"
    }
   ],
   "source": [
    "inventory.replace_one(\n",
    "    {'item':'paper'},\n",
    "    {'item':'paper',\n",
    "    'instock':[{'warehouse':'A','qty':100},\n",
    "               {'warehouse':'B','qty':600}\n",
    "    ]}\n",
    "    \n",
    ")"
   ]
  },
  {
   "cell_type": "code",
   "execution_count": null,
   "id": "e8ec19ca",
   "metadata": {},
   "outputs": [],
   "source": []
  },
  {
   "cell_type": "code",
   "execution_count": null,
   "id": "15763991",
   "metadata": {},
   "outputs": [],
   "source": []
  }
 ],
 "metadata": {
  "kernelspec": {
   "display_name": "Python 3 (ipykernel)",
   "language": "python",
   "name": "python3"
  },
  "language_info": {
   "codemirror_mode": {
    "name": "ipython",
    "version": 3
   },
   "file_extension": ".py",
   "mimetype": "text/x-python",
   "name": "python",
   "nbconvert_exporter": "python",
   "pygments_lexer": "ipython3",
   "version": "3.11.5"
  }
 },
 "nbformat": 4,
 "nbformat_minor": 5
}
